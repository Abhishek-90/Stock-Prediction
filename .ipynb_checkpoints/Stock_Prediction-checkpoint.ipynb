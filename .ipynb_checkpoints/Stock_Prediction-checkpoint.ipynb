{
 "cells": [
  {
   "cell_type": "code",
   "execution_count": 1,
   "metadata": {},
   "outputs": [],
   "source": [
    "import pandas as pd\n",
    "import matplotlib.pyplot as plt"
   ]
  },
  {
   "cell_type": "code",
   "execution_count": 2,
   "metadata": {},
   "outputs": [
    {
     "name": "stdout",
     "output_type": "stream",
     "text": [
      "              open        close          low         high        volume\n",
      "count  1762.000000  1762.000000  1762.000000  1762.000000  1.762000e+03\n",
      "mean     47.536300    47.556266    46.948360    48.133536  3.098557e+06\n",
      "std      13.920490    13.945070    13.854871    14.014741  2.708442e+06\n",
      "min      18.320000    18.650000    18.250000    19.930000  3.536000e+05\n",
      "25%      36.649999    36.562501    36.072501    36.964999  1.543500e+06\n",
      "50%      47.049999    47.029998    46.424999    47.720002  2.421550e+06\n",
      "75%      57.607499    57.617500    56.879999    58.114999  3.789625e+06\n",
      "max      78.199997    78.360001    77.500000    78.440002  4.233010e+07\n"
     ]
    }
   ],
   "source": [
    "#------- importing dataset --------\n",
    "\n",
    "df = pd.read_csv(\"prices_split_adjusted.csv\")\n",
    "Symbol = list(set(df.symbol))\n",
    "\n",
    "#----- dataset for stock AKAM --------\n",
    "\n",
    "df_akam = pd.DataFrame(df[df.symbol == 'AKAM']) \n",
    "print(df_akam.describe())\n",
    "# plt.plot()"
   ]
  },
  {
   "cell_type": "code",
   "execution_count": null,
   "metadata": {},
   "outputs": [],
   "source": []
  }
 ],
 "metadata": {
  "kernelspec": {
   "display_name": "Python 3",
   "language": "python",
   "name": "python3"
  },
  "language_info": {
   "codemirror_mode": {
    "name": "ipython",
    "version": 3
   },
   "file_extension": ".py",
   "mimetype": "text/x-python",
   "name": "python",
   "nbconvert_exporter": "python",
   "pygments_lexer": "ipython3",
   "version": "3.8.3"
  }
 },
 "nbformat": 4,
 "nbformat_minor": 4
}
